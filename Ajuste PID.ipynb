{
 "cells": [
  {
   "cell_type": "markdown",
   "id": "0882a125",
   "metadata": {},
   "source": [
    "# Prueba y Error"
   ]
  },
  {
   "cell_type": "markdown",
   "id": "2b69ea42",
   "metadata": {},
   "source": [
    "Para modificar ese comportamiento y llevarlo a un comportamiento deseado se suele retocar las ganancias mediante pruebas en LC siguiendo estas reglas:\n",
    "\n",
    "\t- Aumentar la ganancia propocional incrementa las oscilaciones.\n",
    "    - El error decae más rápidamente si se disminuye el tiempo de integración.\n",
    "\t- Disminuir el tiempo de integración disminuye la estabilidad (aumentan las oscilaciones).\n",
    "\t- Aumentar el tiempo derivativo mejora la estabilidad.\n",
    "\t"
   ]
  },
  {
   "cell_type": "code",
   "execution_count": null,
   "id": "3cb3b253",
   "metadata": {},
   "outputs": [],
   "source": [
    "import numpy as np\n",
    "import control as cnt\n",
    "import control.matlab  as cntm\n",
    "import matplotlib.pyplot as plt\n",
    "\n",
    "# Define the system transfer function\n",
    "R1 = 10e3\n",
    "C1 = 10e-6\n",
    "R2 = 1e3\n",
    "C2 = 10e-6\n",
    "num = [1]\n",
    "den = [(R1*C1*R2*C2), (R1*C1+R1*C2+R2*C2), 1]\n",
    "sys = cnt.tf(num, den)\n",
    "print(sys)\n",
    "\n",
    "# Define the PID controller transfer function\n",
    "# Kp = 10\n",
    "# Ki = 100\n",
    "# Kd = .2\n",
    "K  = 5\n",
    "Ti = 0.1\n",
    "Td = 0\n",
    "# pid = cnt.tf([Kd, Kp, Ki], [1, 0])\n",
    "pid = cnt.tf([K*Td, K, K/Ti], [1, 0])\n",
    "# pid1 = cnt.tf([0, 10, 0], [1, 0])\n",
    "# pid2 = cnt.tf([0, 2, 0], [1, 0])\n",
    "\n",
    "print(pid)\n",
    "\n"
   ]
  },
  {
   "cell_type": "code",
   "execution_count": null,
   "id": "93cf6fc4",
   "metadata": {},
   "outputs": [],
   "source": [
    "# Define the simulation time and input signal\n",
    "t = np.linspace(0, 2, 5000)\n",
    "u = np.append(np.zeros(int(len(t)/4)), np.ones(int(len(t)*3/4)))\n",
    "\n",
    "# Simulate the closed-loop response\n",
    "cl_sys  = cnt.feedback(sys*pid, 1)\n",
    "# y, t = cntm.step(sys, t, 0)\n",
    "\n",
    "# cl_sys1  = cnt.feedback(sys*pid1, 1)\n",
    "# cl_sys2  = cnt.feedback(sys*pid2, 1)\n",
    "\n",
    "t, y_ol = cnt.forced_response(sys, t, u)\n",
    "t, y_cl = cnt.forced_response(cl_sys, t, u)\n",
    "\n",
    "\n",
    "print(max(y_cl))\n",
    "\n",
    "# Plot the results\n",
    "plt.grid(color='k', linestyle='-', linewidth=0.2)\n",
    "plt.plot(t, u, 'r--', label='Input')\n",
    "plt.plot(t, y_ol, 'b-', label='Output_ol')\n",
    "plt.plot(t, y_cl, 'g-', label='Output_cl')\n",
    "# plt.plot(t, y_cl2, 'k-', label='Output_cl2')\n",
    "plt.legend(loc='best')\n",
    "plt.xlabel('Time (s)')\n",
    "plt.ylabel('Amplitude')\n",
    "\n",
    "plt.show()"
   ]
  },
  {
   "cell_type": "markdown",
   "id": "1d42f25d",
   "metadata": {},
   "source": [
    "# Ziegler-Nichols"
   ]
  },
  {
   "cell_type": "markdown",
   "id": "4539d563",
   "metadata": {},
   "source": [
    "## Método 1: Respuesta al escalón"
   ]
  },
  {
   "cell_type": "markdown",
   "id": "d10e286f",
   "metadata": {},
   "source": [
    "El método busca aproximar la respuesta al escalón por una recta tangente al cambio de concavidad en la respuesta. A partir de esa aproximación se encuentran los parámetros."
   ]
  },
  {
   "cell_type": "code",
   "execution_count": null,
   "id": "518e4800",
   "metadata": {},
   "outputs": [],
   "source": [
    "import numpy as np\n",
    "import control as cnt\n",
    "import control.matlab  as cntm\n",
    "import matplotlib.pyplot as plt\n",
    "%matplotlib notebook\n",
    "# Define the system transfer function\n",
    "R1 = 10e3\n",
    "C1 = 10e-6\n",
    "R2 = 1e3\n",
    "C2 = 10e-6\n",
    "num = [1]\n",
    "den = [(R1*C1*R2*C2), (R1*C1+R1*C2+R2*C2), 1]\n",
    "sys = cnt.tf(num, den)\n",
    "\n",
    "# Define the simulation time and input signal\n",
    "t = np.linspace(0, 2, 5000)\n",
    "u = np.ones(len(t))\n",
    "\n",
    "t, y_ol = cnt.forced_response(sys, t, u)\n",
    "\n",
    "# Plot the results\n",
    "plt.grid(color='k', linestyle='-', linewidth=0.2)\n",
    "plt.plot(t, u, 'r--', label='Input')\n",
    "plt.plot(t, y_ol, 'b-', label='Out')\n",
    "plt.legend(loc='best')\n",
    "plt.xlabel('Time (s)')\n",
    "plt.ylabel('Amplitude')\n",
    "\n",
    "plt.show()"
   ]
  },
  {
   "cell_type": "code",
   "execution_count": null,
   "id": "3d64fe89",
   "metadata": {},
   "outputs": [],
   "source": [
    "x1 = 0.01\n",
    "x2 = 0.25\n",
    "y2 = 1\n",
    "y1 = 0\n",
    "\n",
    "# Ecuación de la recta\n",
    "t1 = np.linspace(0, x2, 5000)\n",
    "y_r = ((y2-y1)/(x2-x1))*(t1-x1)+y1\n",
    "\n",
    "plt.plot(t1, y_r, 'g-', label='Recta')\n",
    "plt.legend(loc='best')\n",
    "plt.xlabel('Time (s)')\n",
    "plt.ylabel('Amplitude')\n",
    "\n",
    "plt.show()\n"
   ]
  },
  {
   "cell_type": "code",
   "execution_count": null,
   "id": "84e52de2",
   "metadata": {},
   "outputs": [],
   "source": [
    "# Ziegler-Nichols Parameters\n",
    "L = x1\n",
    "T = x2-x1\n",
    "# A = B = 1\n",
    "\n",
    "# PID con Z-N\n",
    "K  = 1.2*T/L\n",
    "Ti = 2*L\n",
    "Td = 0.5*L\n",
    "\n",
    "print(K,Ti,Td)\n",
    "\n",
    "pid = cnt.tf([K*Td, K, K/Ti], [1, 0])\n",
    "\n",
    "cl_sys  = cnt.feedback(sys*pid, 1)\n",
    "t, y_cl = cnt.forced_response(cl_sys, t, u)\n",
    "\n",
    "%matplotlib notebook\n",
    "\n",
    "# Plot the results\n",
    "plt.grid(color='k', linestyle='-', linewidth=0.2)\n",
    "plt.plot(t, u, 'r--', label='Input')\n",
    "plt.plot(t, y_ol, 'b-', label='Out_ol')\n",
    "plt.plot(t, y_cl, 'g-', label='Out_cl')\n",
    "plt.legend(loc='best')\n",
    "plt.xlabel('Time (s)')\n",
    "plt.ylabel('Amplitude')\n",
    "\n",
    "plt.show()"
   ]
  },
  {
   "cell_type": "code",
   "execution_count": null,
   "id": "46efcc4d",
   "metadata": {},
   "outputs": [],
   "source": [
    "# Verificación del Quarter Decay\n",
    "print(max(y_cl)-1)\n",
    "print((max(y_cl)-1)/4)\n"
   ]
  },
  {
   "cell_type": "markdown",
   "id": "4b807ac5",
   "metadata": {},
   "source": [
    "## Método 2: Ganancia crítica"
   ]
  },
  {
   "cell_type": "markdown",
   "id": "724d6e54",
   "metadata": {},
   "source": [
    "En este método se busca llevar al sistema a funcionar en un punto de oscilaciones sostenidas al aumentar la ganancia en lazo cerrado."
   ]
  },
  {
   "cell_type": "code",
   "execution_count": null,
   "id": "47e64754",
   "metadata": {},
   "outputs": [],
   "source": [
    "# Sistema en LC con ganancia\n",
    "%matplotlib inline\n",
    "g,p = cntm.rlocus(sys)\n",
    "\n",
    "# Es necesario que los polos del sistema puedan ir hacia el eje imaginario para poder lograr las oscilaciones sostenidas."
   ]
  },
  {
   "cell_type": "markdown",
   "id": "7046983c",
   "metadata": {},
   "source": [
    "# Ubicando Polos y Ceros"
   ]
  },
  {
   "cell_type": "markdown",
   "id": "6551fb13",
   "metadata": {},
   "source": [
    "Se propone una forma de encontrar las ganancias del PID en función de las especificaciones de diseño"
   ]
  },
  {
   "cell_type": "code",
   "execution_count": null,
   "id": "75b74ef5",
   "metadata": {},
   "outputs": [],
   "source": [
    "import numpy as np\n",
    "import control as cnt\n",
    "import control.matlab  as cntm\n",
    "import matplotlib.pyplot as plt\n",
    "import math as mt\n",
    "\n",
    "# Define the system transfer function\n",
    "R1 = 10e3\n",
    "C1 = 10e-6\n",
    "R2 = 1e3\n",
    "C2 = 10e-6\n",
    "num = [1]\n",
    "den = [(R1*C1*R2*C2), (R1*C1+R1*C2+R2*C2), 1]\n",
    "sys = cnt.tf(num, den)\n",
    "\n",
    "num1 = [1/(R1*C1*R2*C2)]\n",
    "den1 = [1,(R1*C1+R1*C2+R2*C2)/(R1*C1*R2*C2), 1/(R1*C1*R2*C2)]\n",
    "sys1 = cnt.tf(num1, den1)\n",
    "\n",
    "\n",
    "p1,p2 = cnt.poles(sys1)\n",
    "\n",
    "tau1 = -1/p1.real\n",
    "tau2 = -1/p2.real\n",
    "\n",
    "s = cnt.tf('s')\n",
    "sys2 = (tau1*tau2/(R1*C1*R2*C2))/((s*tau1+1)*(s*tau2+1))\n",
    "\n",
    "y_ca, t = cntm.step(sys2, t)\n",
    "\n",
    "\n",
    "plt.grid(color='k', linestyle='-', linewidth=0.2)\n",
    "plt.plot(t, y, 'r--', label='Out_ol')\n",
    "plt.plot(t, y_ca, 'b-', label='Out_ca')\n",
    "plt.legend(loc='best')\n",
    "plt.xlabel('Time (s)')\n",
    "plt.ylabel('Amplitude')\n"
   ]
  },
  {
   "cell_type": "code",
   "execution_count": null,
   "id": "3e6d33a9",
   "metadata": {},
   "outputs": [],
   "source": [
    "# Parámetros del sistema en LA\n",
    "tau1 = -1/p1.real\n",
    "tau2 = -1/p2.real\n",
    "ks = tau1*tau2/(R1*C1*R2*C2)\n",
    "tr = 0.445 - 0.018\n",
    "\n",
    "# Parámetros del sistema deseado en LC\n",
    "trd     = 0.7*tr\n",
    "Mp      = 8/100\n",
    "# print(trd, Mp)\n",
    "psi     = mt.sqrt(mt.log(Mp)**2/(mt.pi**2+mt.log(Mp)**2)) # Tiene que ser mayor o igual a ese valor\n",
    "print(psi)\n",
    "# Aumentar el psi significa que el sistema en lazo cerrado va a estar cada vez más amortiguado\n",
    "psi     = psi                                             # Para que el cálculo tenga sentido psi<1 (sub-amortiguado)\n",
    "phi     = mt.acos(psi)\n",
    "omega_0 = trd/(mt.exp(phi/mt.tan(phi)))                   # Tiene que ser mayor o igual a ese valor\n",
    "print(omega_0)\n",
    "# Aumentar omega indica que el sistema va a tender a tener oscilaciones más rápidas\n",
    "omega_0 = omega_0 + 6\n",
    "\n",
    "# Calculo las raices del polinomio de lazo cerrado para saber qué sería un polo \"alejado\"\n",
    "p1_lc,p2_lc = np.roots([1,2*psi*omega_0,omega_0**2])\n",
    "\n",
    "# En función de los polos anteriores se elije el polo restante una decada más lejos\n",
    "alpha   = 10*max(-p1_lc.real,-p2_lc.real)      \n",
    "print(psi,phi,omega_0,alpha)\n",
    "\n",
    "K  = (tau1*tau2*omega_0**2*(1+2*alpha*psi)-1)/ks\n",
    "Ti = (tau1*tau2*omega_0**2*(1+2*alpha*psi)-1)/(tau1*tau2*alpha*omega_0**3)\n",
    "Td = (tau1*tau2*omega_0*(alpha+2*psi)-tau1-tau2)/(tau1*tau2*omega_0**2*(1+2*alpha*psi)-1)\n",
    "\n",
    "# Verificar que todas las ganancias del controlador den positivas (sintetiza un mejor controlador)\n",
    "print('Ganancias del PID:',K,Ti,Td)\n",
    "# Td podría ser negativo, pero podría generar algunas complicaciones de implementación\n"
   ]
  },
  {
   "cell_type": "code",
   "execution_count": null,
   "id": "3d11ea02",
   "metadata": {},
   "outputs": [],
   "source": [
    "%matplotlib inline\n",
    "# Define time\n",
    "t = np.linspace(0, 2, 5000)\n",
    "\n",
    "pi = cnt.tf([K,K/Ti], [1, 0])\n",
    "\n",
    "cl_sys  = cnt.feedback(sys*pi, 1)\n",
    "y_cl, t = cntm.step(cl_sys, t)\n",
    "\n",
    "# Plot the results\n",
    "plt.grid(color='k', linestyle='-', linewidth=0.2)\n",
    "plt.plot(t, y, 'r--', label='Out_ol')\n",
    "plt.plot(t, y_cl, 'b-', label='Out_cl')\n",
    "plt.legend(loc='best')\n",
    "plt.xlabel('Time (s)')\n",
    "plt.ylabel('Amplitude')\n",
    "\n",
    "plt.show()"
   ]
  },
  {
   "cell_type": "code",
   "execution_count": null,
   "id": "f124ab2d",
   "metadata": {},
   "outputs": [],
   "source": [
    "# Define a function to calculate the rise time\n",
    "def calculate_rise_time(signal, time,ref_value=1):\n",
    "    # Find the index where the signal first crosses the start threshold\n",
    "    start_index = np.argmax(signal >= 0.1*ref_value)\n",
    "    \n",
    "    # Find the index where the signal crosses the end threshold\n",
    "    end_index = np.argmax(signal >= 0.9*ref_value)\n",
    "    \n",
    "    # Calculate the rise time as the difference between the two indices, multiplied by the time step\n",
    "    rise_time = time[end_index] - time[start_index]\n",
    "    \n",
    "    return rise_time"
   ]
  },
  {
   "cell_type": "code",
   "execution_count": null,
   "id": "e752c039",
   "metadata": {},
   "outputs": [],
   "source": [
    "rt = calculate_rise_time(y,t)\n",
    "print('Tiempo de subida en LA:',tr)\n",
    "print('Tiempo de subida deseado:',0.7*tr)"
   ]
  },
  {
   "cell_type": "code",
   "execution_count": null,
   "id": "c3da5fd3",
   "metadata": {},
   "outputs": [],
   "source": [
    "rt_cl = calculate_rise_time(y_cl,t)\n",
    "print(rt_cl,max(y_cl))"
   ]
  }
 ],
 "metadata": {
  "kernelspec": {
   "display_name": "Python 3 (ipykernel)",
   "language": "python",
   "name": "python3"
  },
  "language_info": {
   "codemirror_mode": {
    "name": "ipython",
    "version": 3
   },
   "file_extension": ".py",
   "mimetype": "text/x-python",
   "name": "python",
   "nbconvert_exporter": "python",
   "pygments_lexer": "ipython3",
   "version": "3.8.10"
  }
 },
 "nbformat": 4,
 "nbformat_minor": 5
}
