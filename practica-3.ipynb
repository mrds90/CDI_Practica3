{
 "cells": [
  {
   "cell_type": "markdown",
   "metadata": {},
   "source": [
    "### Control Digital en Sistemas Embebidos - MSE - PRACTICA 3"
   ]
  },
  {
   "cell_type": "code",
   "execution_count": null,
   "metadata": {},
   "outputs": [],
   "source": [
    "import numpy as np\n",
    "import control as cnt\n",
    "from scipy.linalg import expm\n",
    "import matplotlib.pyplot as plt"
   ]
  },
  {
   "cell_type": "markdown",
   "metadata": {},
   "source": [
    "**1)** Crear una función en Matlab que aplique la función del controlador PID y obtenga la señal de control para una determinada señal de referencia y señal de salida."
   ]
  },
  {
   "cell_type": "code",
   "execution_count": null,
   "metadata": {},
   "outputs": [],
   "source": [
    "def pid_controller(pid_data: dict) -> dict:\n",
    "    \n",
    "    data = pid_data.copy()\n",
    "    \n",
    "    p = data['kp'] * (data['b'] * data['r'] - data['y'])\n",
    "    i = data['future_i']\n",
    "    d = (data['kd'] / (data['kd'] + data['n'] * data['h'])) * (data['past_d'] - data['n'] * (data['y'] - data['past_y']))\n",
    "    \n",
    "    data['u'] = p + i + d\n",
    "    \n",
    "    data['future_i'] = i + data['ki'] * data['h'] * (data['r'] - data['y'])\n",
    "    data['past_d'] = d\n",
    "    data['past_y'] = data['y']\n",
    "    \n",
    "    return data"
   ]
  },
  {
   "cell_type": "code",
   "execution_count": null,
   "metadata": {},
   "outputs": [],
   "source": [
    "def pid_controller_response(num: np.ndarray, den: np.ndarray, input: np.ndarray, pid_data: dict) -> np.ndarray:\n",
    "    \n",
    "    a = np.array(den).flatten()\n",
    "    b = np.array(num).flatten()\n",
    "    \n",
    "    n_inicial = len(a) - 1\n",
    "    \n",
    "    y = np.zeros(len(input) + n_inicial)\n",
    "    r = np.concatenate((np.zeros(n_inicial), input), axis=None)\n",
    "    u = np.concatenate((np.zeros(n_inicial), input), axis=None)\n",
    "    \n",
    "    data = pid_data.copy()\n",
    "    \n",
    "    for k in range(n_inicial, len(r)):\n",
    "\n",
    "      data['y'] = y[k-1]\n",
    "      data['r'] = r[k]\n",
    "\n",
    "      data = pid_controller(data)\n",
    "    \n",
    "      u[k] = data['u']\n",
    "\n",
    "      for m in range(0, len(b)):\n",
    "        y[k] = y[k] + b[m] * u[k-m]\n",
    "      \n",
    "      for n in range(1, len(a)):\n",
    "        y[k] = y[k] - a[n] * y[k-n]\n",
    "    \n",
    "      y[k] = y[k] / a[0]\n",
    "    \n",
    "    return y[n_inicial-1:]"
   ]
  },
  {
   "cell_type": "markdown",
   "metadata": {},
   "source": [
    "**2)** Discretizar la planta."
   ]
  },
  {
   "cell_type": "code",
   "execution_count": null,
   "metadata": {},
   "outputs": [],
   "source": [
    "h = 0.01\n",
    "\n",
    "s = cnt.tf('s')\n",
    "hs = (0.2*s+1) / (0.1*s*s + 0.4*s +1 )\n",
    "hz = cnt.c2d(hs, h, 'zoh')\n",
    "hz\n"
   ]
  },
  {
   "cell_type": "code",
   "execution_count": null,
   "metadata": {},
   "outputs": [],
   "source": [
    "numz, denz = cnt.tfdata(hz)\n",
    "numz, denz"
   ]
  },
  {
   "cell_type": "markdown",
   "metadata": {},
   "source": [
    "**3)** Obtener la respuesta al escalón en tiempo continuo y discreto."
   ]
  },
  {
   "cell_type": "code",
   "execution_count": null,
   "metadata": {},
   "outputs": [],
   "source": [
    "t = np.linspace(h, h * 1000, 1000)\n",
    "u = np.concatenate((np.zeros(int(len(t) / 2)), np.ones(int(len(t) / 2))), axis=None)"
   ]
  },
  {
   "cell_type": "code",
   "execution_count": null,
   "metadata": {},
   "outputs": [],
   "source": [
    "t_hz_1, y_hz_1 = cnt.forced_response(hz, t, u)"
   ]
  },
  {
   "cell_type": "code",
   "execution_count": null,
   "metadata": {},
   "outputs": [],
   "source": [
    "p_1 = plt.plot(y_hz_1)\n",
    "plt.ylabel('u(t)')\n",
    "plt.title('Respuesta al Escalon')\n",
    "plt.legend('y(t)');"
   ]
  },
  {
   "cell_type": "markdown",
   "metadata": {},
   "source": [
    "**4)** Aplicar un control PID utilizando la función creada anteriormente. Obtener señal de control y graficarla."
   ]
  },
  {
   "cell_type": "code",
   "execution_count": null,
   "metadata": {},
   "outputs": [],
   "source": [
    "t = np.linspace(h, h * 1000, 1000)\n",
    "r = np.concatenate((np.zeros(int(len(t) / 2)), np.ones(int(len(t) / 2))), axis=None)"
   ]
  },
  {
   "cell_type": "code",
   "execution_count": null,
   "metadata": {},
   "outputs": [],
   "source": [
    "pid_data = dict()\n",
    "\n",
    "pid_data['kp'] = 2.6\n",
    "\n",
    "# Ki = Kp / Ti\n",
    "pid_data['ki'] = 0.08 / h\n",
    "\n",
    "# Kd = Kp * Td\n",
    "pid_data['kd'] = 10 * h\n",
    "\n",
    "pid_data['h'] = h\n",
    "pid_data['n'] = 20\n",
    "pid_data['b'] = 1\n",
    "\n",
    "pid_data['future_i'] = 0\n",
    "pid_data['past_d'] = 0\n",
    "pid_data['past_y'] = 0"
   ]
  },
  {
   "cell_type": "code",
   "execution_count": null,
   "metadata": {},
   "outputs": [],
   "source": [
    "y_hz_pid = pid_controller_response(numz, denz, r, pid_data)"
   ]
  },
  {
   "cell_type": "code",
   "execution_count": null,
   "metadata": {},
   "outputs": [],
   "source": [
    "p_1 = plt.plot(r)\n",
    "p_2 = plt.plot(y_hz_pid)\n",
    "plt.ylabel('u(t)')\n",
    "plt.title('Respuesta al Escalon')\n",
    "plt.legend((p_1[0], p_2[0]), ('Señal de entrada', 'Salida controlada'));"
   ]
  },
  {
   "cell_type": "markdown",
   "metadata": {},
   "source": [
    "**5)** Comparar la respuesta al escalón del punto 3 con la respuesta obtenida aplicando el control PID anterior."
   ]
  },
  {
   "cell_type": "code",
   "execution_count": null,
   "metadata": {},
   "outputs": [],
   "source": [
    "t_hz_open, y_hz_open = cnt.forced_response(hz, t, r)"
   ]
  },
  {
   "cell_type": "code",
   "execution_count": null,
   "metadata": {},
   "outputs": [],
   "source": [
    "p_1 = plt.plot(r)\n",
    "p_2 = plt.plot(y_hz_pid)\n",
    "p_3 = plt.plot(y_hz_open)\n",
    "plt.ylabel('u(t)')\n",
    "plt.title('Respuesta al Escalon')\n",
    "plt.legend((p_1[0], p_2[0], p_3[0]), ('Señal de entrada', 'Salida controlada', 'Respuesta natural del sistema'));"
   ]
  }
 ],
 "metadata": {
  "kernelspec": {
   "display_name": "Python 3 (ipykernel)",
   "language": "python",
   "name": "python3"
  },
  "language_info": {
   "codemirror_mode": {
    "name": "ipython",
    "version": 3
   },
   "file_extension": ".py",
   "mimetype": "text/x-python",
   "name": "python",
   "nbconvert_exporter": "python",
   "pygments_lexer": "ipython3",
   "version": "3.8.10"
  },
  "vscode": {
   "interpreter": {
    "hash": "b0910efa68c65faf7b1b22e60f5ed6d10d209310f0a455ecbd862ffe309cfe1b"
   }
  }
 },
 "nbformat": 4,
 "nbformat_minor": 2
}
